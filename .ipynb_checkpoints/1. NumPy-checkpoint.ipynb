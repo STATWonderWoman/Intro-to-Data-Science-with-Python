{
 "cells": [
  {
   "cell_type": "markdown",
   "metadata": {},
   "source": [
    "# Intro to NumPy\n",
    "NumPy is the most fundamental library to scientific computing in Python. It forms the basis for most of the important data science libraries like pandas and scikit-learn.\n",
    "\n",
    "The main data structure that NumPy provides is the n-dimensional array object or **`ndarray`**. ndarray objects may be any number of dimensions. Typically in data science we are dealing with two dimensional tabular data of rows and columns so here we will begin by creating an array of random values from a normal distribution and do some basic analysis on it."
   ]
  },
  {
   "cell_type": "code",
   "execution_count": 2,
   "metadata": {},
   "outputs": [],
   "source": [
    "import numpy as np"
   ]
  },
  {
   "cell_type": "markdown",
   "metadata": {},
   "source": [
    "## Create first array - roll some dice\n",
    "To get things started we will create a two-dimensional array with random dice rolls. They will be generated using the help of the **`randint`** function. The first line of code sets the random number generator seed so that we all have the same exact numbers.\n",
    "\n",
    "The first two parameters of the **`randint`** function provide the lower and upper bound for the random number. The upper bound is not included. The third parameter is the shape of the array as a tuple - **`(rows, columns)`**."
   ]
  },
  {
   "cell_type": "code",
   "execution_count": 3,
   "metadata": {},
   "outputs": [
    {
     "data": {
      "text/plain": [
       "array([[6, 3, 5, 3],\n",
       "       [2, 4, 3, 4],\n",
       "       [2, 2, 1, 2],\n",
       "       [2, 1, 1, 2],\n",
       "       [4, 6, 5, 1],\n",
       "       [1, 5, 2, 4],\n",
       "       [3, 5, 3, 5],\n",
       "       [1, 6, 1, 2],\n",
       "       [4, 5, 5, 5],\n",
       "       [2, 6, 4, 3]])"
      ]
     },
     "execution_count": 3,
     "metadata": {},
     "output_type": "execute_result"
    }
   ],
   "source": [
    "np.random.seed(123)\n",
    "a = np.random.randint(1, 7, (10, 4))\n",
    "a"
   ]
  },
  {
   "cell_type": "markdown",
   "metadata": {},
   "source": [
    "### Accessing elements\n",
    "In regular Python, the indexing operator, the brackets **`[]`**, selects particular items from objects. This is most commonly done with strings, lists, and dictionaries. ndarrays use the same operator for selecting subsets of data. \n",
    "\n",
    "To select a single element, place the integer location (the index) of the row and column inside the brackets separated by a comma.\n",
    "\n",
    "`array[row_selection, column_selection]`\n",
    "\n",
    "Below we select the number at row location 6, and column location 2. NumPy arrays are indexed beginning at 0."
   ]
  },
  {
   "cell_type": "code",
   "execution_count": 4,
   "metadata": {},
   "outputs": [
    {
     "data": {
      "text/plain": [
       "3"
      ]
     },
     "execution_count": 4,
     "metadata": {},
     "output_type": "execute_result"
    }
   ],
   "source": [
    "a[6, 2]"
   ]
  },
  {
   "cell_type": "code",
   "execution_count": 8,
   "metadata": {},
   "outputs": [
    {
     "data": {
      "text/plain": [
       "6"
      ]
     },
     "execution_count": 8,
     "metadata": {},
     "output_type": "execute_result"
    }
   ],
   "source": [
    "a[0, 0]"
   ]
  },
  {
   "cell_type": "markdown",
   "metadata": {},
   "source": [
    "### Use slice notation to select multiple row or columns\n",
    "\n",
    "### `start:stop:step`\n",
    "\n",
    "Slice notation only works inside the brackets selection operator. The step value defaults to 1 if not provided."
   ]
  },
  {
   "cell_type": "code",
   "execution_count": 6,
   "metadata": {},
   "outputs": [
    {
     "data": {
      "text/plain": [
       "array([1, 1, 5])"
      ]
     },
     "execution_count": 6,
     "metadata": {},
     "output_type": "execute_result"
    }
   ],
   "source": [
    "# select rows 2 through 5 of just column 2\n",
    "a[2:5, 2]"
   ]
  },
  {
   "cell_type": "code",
   "execution_count": 9,
   "metadata": {},
   "outputs": [
    {
     "data": {
      "text/plain": [
       "array([[2, 1],\n",
       "       [1, 1],\n",
       "       [6, 5]])"
      ]
     },
     "execution_count": 9,
     "metadata": {},
     "output_type": "execute_result"
    }
   ],
   "source": [
    "# select rows 2 through 5 of columns 1 through 3\n",
    "a[2:5, 1:3]"
   ]
  },
  {
   "cell_type": "code",
   "execution_count": 10,
   "metadata": {},
   "outputs": [
    {
     "data": {
      "text/plain": [
       "array([[1, 2],\n",
       "       [2, 4],\n",
       "       [1, 2]])"
      ]
     },
     "execution_count": 10,
     "metadata": {},
     "output_type": "execute_result"
    }
   ],
   "source": [
    "# Select every other row beginning at 3 and ending at 8 along with all columns from 2 to the end\n",
    "a[3:8:2, 2:]"
   ]
  },
  {
   "cell_type": "markdown",
   "metadata": {},
   "source": [
    "## Slice notation without start or stop values\n",
    "If you do not provide the start value, the slice begins from the first element. Likewise, not providing the stop value will end the slice at the last value."
   ]
  },
  {
   "cell_type": "code",
   "execution_count": 11,
   "metadata": {},
   "outputs": [
    {
     "data": {
      "text/plain": [
       "array([[3, 5, 3],\n",
       "       [1, 6, 1],\n",
       "       [4, 5, 5],\n",
       "       [2, 6, 4]])"
      ]
     },
     "execution_count": 11,
     "metadata": {},
     "output_type": "execute_result"
    }
   ],
   "source": [
    "# select from row 6 to the end from the first to the third column\n",
    "a[6:, :3]"
   ]
  },
  {
   "cell_type": "markdown",
   "metadata": {},
   "source": [
    "### Problem 1\n",
    "<span style=\"color:green\">Create an array with 5 rows and 6 columns with random numbers. Assign it to variable `arr` and output it to the screen.</span>"
   ]
  },
  {
   "cell_type": "code",
   "execution_count": 13,
   "metadata": {},
   "outputs": [
    {
     "data": {
      "text/plain": [
       "array([[48, 84, 39, 54, 77, 25],\n",
       "       [16, 50, 24, 27, 31, 44],\n",
       "       [31, 27, 59, 93, 70, 81],\n",
       "       [74, 48, 51, 77, 38, 35],\n",
       "       [39, 68, 12,  1, 76, 81]])"
      ]
     },
     "execution_count": 13,
     "metadata": {},
     "output_type": "execute_result"
    }
   ],
   "source": [
    "# your code here\n",
    "np.random.seed (1234)\n",
    "arr = np.random.randint(1, 100, (5, 6))\n",
    "arr"
   ]
  },
  {
   "cell_type": "markdown",
   "metadata": {},
   "source": [
    "### Problem 2\n",
    "<span style=\"color:green\">Select single elements of `arr` multiple times.</span>"
   ]
  },
  {
   "cell_type": "code",
   "execution_count": 14,
   "metadata": {},
   "outputs": [
    {
     "name": "stdout",
     "output_type": "stream",
     "text": [
      "48\n",
      "24\n",
      "12\n"
     ]
    }
   ],
   "source": [
    "# your code here\n",
    "print(arr[0,0])\n",
    "print(arr[1,2])\n",
    "print(arr[4,2])"
   ]
  },
  {
   "cell_type": "markdown",
   "metadata": {},
   "source": [
    "### Problem 3\n",
    "<span style=\"color:green\">Select many subsets of elements of `arr` using slice notation.</span>"
   ]
  },
  {
   "cell_type": "code",
   "execution_count": 15,
   "metadata": {},
   "outputs": [
    {
     "name": "stdout",
     "output_type": "stream",
     "text": [
      "[[24 27 31]\n",
      " [59 93 70]]\n"
     ]
    }
   ],
   "source": [
    "# your code here\n",
    "print(arr[1:3,2:5])"
   ]
  },
  {
   "cell_type": "markdown",
   "metadata": {},
   "source": [
    "## Arithmetic operations on the entire array\n",
    "Applying an arithmetic operation to an entire array is easy and has the same syntax as operating on two numbers."
   ]
  },
  {
   "cell_type": "code",
   "execution_count": 16,
   "metadata": {},
   "outputs": [
    {
     "data": {
      "text/plain": [
       "array([[30, 15, 25, 15],\n",
       "       [10, 20, 15, 20],\n",
       "       [10, 10,  5, 10],\n",
       "       [10,  5,  5, 10],\n",
       "       [20, 30, 25,  5],\n",
       "       [ 5, 25, 10, 20],\n",
       "       [15, 25, 15, 25],\n",
       "       [ 5, 30,  5, 10],\n",
       "       [20, 25, 25, 25],\n",
       "       [10, 30, 20, 15]])"
      ]
     },
     "execution_count": 16,
     "metadata": {},
     "output_type": "execute_result"
    }
   ],
   "source": [
    "# multiply each element by 5\n",
    "a * 5"
   ]
  },
  {
   "cell_type": "code",
   "execution_count": 17,
   "metadata": {},
   "outputs": [
    {
     "data": {
      "text/plain": [
       "array([[ 3,  0,  2,  0],\n",
       "       [-1,  1,  0,  1],\n",
       "       [-1, -1, -2, -1],\n",
       "       [-1, -2, -2, -1],\n",
       "       [ 1,  3,  2, -2],\n",
       "       [-2,  2, -1,  1],\n",
       "       [ 0,  2,  0,  2],\n",
       "       [-2,  3, -2, -1],\n",
       "       [ 1,  2,  2,  2],\n",
       "       [-1,  3,  1,  0]])"
      ]
     },
     "execution_count": 17,
     "metadata": {},
     "output_type": "execute_result"
    }
   ],
   "source": [
    "# subtract 3 from each element\n",
    "a - 3"
   ]
  },
  {
   "cell_type": "markdown",
   "metadata": {},
   "source": [
    "## Vectorized Operations\n",
    "NumPy is blazingly fast by Python standards. It executes code in pre-compiled C code. **Vectorized** is a term used to describe an operation that happens to many elements without the explicit writing of a for loop."
   ]
  },
  {
   "cell_type": "markdown",
   "metadata": {},
   "source": [
    "## Array attributes and methods\n",
    "Much of the power and functionality within NumPy arrays are accessible via its methods with the dot notation. There are also a few attributes (not executed with parentheses) that are worthwhile."
   ]
  },
  {
   "cell_type": "code",
   "execution_count": 18,
   "metadata": {},
   "outputs": [
    {
     "data": {
      "text/plain": [
       "(10, 4)"
      ]
     },
     "execution_count": 18,
     "metadata": {},
     "output_type": "execute_result"
    }
   ],
   "source": [
    "# get dimensions\n",
    "a.shape"
   ]
  },
  {
   "cell_type": "code",
   "execution_count": 19,
   "metadata": {},
   "outputs": [
    {
     "data": {
      "text/plain": [
       "2"
      ]
     },
     "execution_count": 19,
     "metadata": {},
     "output_type": "execute_result"
    }
   ],
   "source": [
    "# get number of dimensions\n",
    "a.ndim"
   ]
  },
  {
   "cell_type": "code",
   "execution_count": 20,
   "metadata": {},
   "outputs": [
    {
     "data": {
      "text/plain": [
       "40"
      ]
     },
     "execution_count": 20,
     "metadata": {},
     "output_type": "execute_result"
    }
   ],
   "source": [
    "# total number of elements\n",
    "a.size"
   ]
  },
  {
   "cell_type": "code",
   "execution_count": 21,
   "metadata": {},
   "outputs": [
    {
     "data": {
      "text/plain": [
       "array([[6, 2, 2, 2, 4, 1, 3, 1, 4, 2],\n",
       "       [3, 4, 2, 1, 6, 5, 5, 6, 5, 6],\n",
       "       [5, 3, 1, 1, 5, 2, 3, 1, 5, 4],\n",
       "       [3, 4, 2, 2, 1, 4, 5, 2, 5, 3]])"
      ]
     },
     "execution_count": 21,
     "metadata": {},
     "output_type": "execute_result"
    }
   ],
   "source": [
    "# Transpose array\n",
    "a.T"
   ]
  },
  {
   "cell_type": "markdown",
   "metadata": {},
   "source": [
    "### Descriptive statistics\n",
    "A number of common descriptive statistical methods are available. These operate over each element of the array."
   ]
  },
  {
   "cell_type": "code",
   "execution_count": 22,
   "metadata": {},
   "outputs": [
    {
     "data": {
      "text/plain": [
       "6"
      ]
     },
     "execution_count": 22,
     "metadata": {},
     "output_type": "execute_result"
    }
   ],
   "source": [
    "a.max()"
   ]
  },
  {
   "cell_type": "code",
   "execution_count": 23,
   "metadata": {},
   "outputs": [
    {
     "data": {
      "text/plain": [
       "1"
      ]
     },
     "execution_count": 23,
     "metadata": {},
     "output_type": "execute_result"
    }
   ],
   "source": [
    "a.min()"
   ]
  },
  {
   "cell_type": "code",
   "execution_count": 24,
   "metadata": {},
   "outputs": [
    {
     "data": {
      "text/plain": [
       "131"
      ]
     },
     "execution_count": 24,
     "metadata": {},
     "output_type": "execute_result"
    }
   ],
   "source": [
    "a.sum()"
   ]
  },
  {
   "cell_type": "code",
   "execution_count": 25,
   "metadata": {},
   "outputs": [
    {
     "data": {
      "text/plain": [
       "3.275"
      ]
     },
     "execution_count": 25,
     "metadata": {},
     "output_type": "execute_result"
    }
   ],
   "source": [
    "a.mean()"
   ]
  },
  {
   "cell_type": "code",
   "execution_count": 26,
   "metadata": {},
   "outputs": [
    {
     "data": {
      "text/plain": [
       "1.6429774800647756"
      ]
     },
     "execution_count": 26,
     "metadata": {},
     "output_type": "execute_result"
    }
   ],
   "source": [
    "a.std()"
   ]
  },
  {
   "cell_type": "markdown",
   "metadata": {},
   "source": [
    "### Reshaping methods"
   ]
  },
  {
   "cell_type": "code",
   "execution_count": 27,
   "metadata": {},
   "outputs": [
    {
     "data": {
      "text/plain": [
       "array([6, 3, 5, 3, 2, 4, 3, 4, 2, 2, 1, 2, 2, 1, 1, 2, 4, 6, 5, 1, 1, 5,\n",
       "       2, 4, 3, 5, 3, 5, 1, 6, 1, 2, 4, 5, 5, 5, 2, 6, 4, 3])"
      ]
     },
     "execution_count": 27,
     "metadata": {},
     "output_type": "execute_result"
    }
   ],
   "source": [
    "# make a single dimension\n",
    "a.flatten()"
   ]
  },
  {
   "cell_type": "code",
   "execution_count": null,
   "metadata": {},
   "outputs": [],
   "source": [
    "# reshape - pass a tuple of new shape\n",
    "# the dimensions of the new shape must work\n",
    "a.reshape((8, 5))"
   ]
  },
  {
   "cell_type": "markdown",
   "metadata": {},
   "source": [
    "## Use the `axis` parameter to apply a method in a single direction\n",
    "We get descriptive statistics for each row or column"
   ]
  },
  {
   "cell_type": "code",
   "execution_count": 28,
   "metadata": {},
   "outputs": [
    {
     "data": {
      "text/plain": [
       "array([6, 6, 5, 5])"
      ]
     },
     "execution_count": 28,
     "metadata": {},
     "output_type": "execute_result"
    }
   ],
   "source": [
    "# take max of each column\n",
    "a.max(axis=0)"
   ]
  },
  {
   "cell_type": "code",
   "execution_count": 29,
   "metadata": {},
   "outputs": [
    {
     "data": {
      "text/plain": [
       "array([6, 4, 2, 2, 6, 5, 5, 6, 5, 6])"
      ]
     },
     "execution_count": 29,
     "metadata": {},
     "output_type": "execute_result"
    }
   ],
   "source": [
    "# take max of each row\n",
    "a.max(axis=1)"
   ]
  },
  {
   "cell_type": "code",
   "execution_count": 30,
   "metadata": {},
   "outputs": [
    {
     "data": {
      "text/plain": [
       "array([27, 43, 30, 31])"
      ]
     },
     "execution_count": 30,
     "metadata": {},
     "output_type": "execute_result"
    }
   ],
   "source": [
    "a.sum(axis=0)"
   ]
  },
  {
   "cell_type": "code",
   "execution_count": 31,
   "metadata": {},
   "outputs": [
    {
     "data": {
      "text/plain": [
       "131"
      ]
     },
     "execution_count": 31,
     "metadata": {},
     "output_type": "execute_result"
    }
   ],
   "source": [
    "# by default axis is set to None\n",
    "a.sum(axis=None)"
   ]
  },
  {
   "cell_type": "code",
   "execution_count": 32,
   "metadata": {},
   "outputs": [
    {
     "data": {
      "text/plain": [
       "131"
      ]
     },
     "execution_count": 32,
     "metadata": {},
     "output_type": "execute_result"
    }
   ],
   "source": [
    "# not necessary to pass the parameter None to the method\n",
    "a.sum()"
   ]
  },
  {
   "cell_type": "markdown",
   "metadata": {},
   "source": [
    "![](images/numpy_axis.png)"
   ]
  },
  {
   "cell_type": "markdown",
   "metadata": {},
   "source": [
    "### Problem 4\n",
    "<span style=\"color:green\">Practice using the basic vectorized arithmetic operations.</span>"
   ]
  },
  {
   "cell_type": "code",
   "execution_count": 33,
   "metadata": {},
   "outputs": [
    {
     "data": {
      "text/plain": [
       "array([[144, 252, 117, 162, 231,  75],\n",
       "       [ 48, 150,  72,  81,  93, 132],\n",
       "       [ 93,  81, 177, 279, 210, 243],\n",
       "       [222, 144, 153, 231, 114, 105],\n",
       "       [117, 204,  36,   3, 228, 243]])"
      ]
     },
     "execution_count": 33,
     "metadata": {},
     "output_type": "execute_result"
    }
   ],
   "source": [
    "# your code here\n",
    "arr * 3"
   ]
  },
  {
   "cell_type": "markdown",
   "metadata": {},
   "source": [
    "### Problem 5\n",
    "<span style=\"color:green\">Practice calling many of the methods. Use the tab completion help to find them. Change the direction of operation with the **`axis`** parameter.</span>"
   ]
  },
  {
   "cell_type": "code",
   "execution_count": 34,
   "metadata": {},
   "outputs": [
    {
     "data": {
      "text/plain": [
       "array([16, 27, 12,  1, 31, 25])"
      ]
     },
     "execution_count": 34,
     "metadata": {},
     "output_type": "execute_result"
    }
   ],
   "source": [
    "# your code here\n",
    "arr.T\n",
    "arr.max()\n",
    "arr.min(axis=0)"
   ]
  },
  {
   "cell_type": "markdown",
   "metadata": {},
   "source": [
    "# NumPy functions on arrays\n",
    "Not all functionality is available as array methods. NumPy provides more functionality with its functions. These are accessed with **`np.`** followed by the function name. You will usually place the array inside of the function as the first parameter."
   ]
  },
  {
   "cell_type": "code",
   "execution_count": 39,
   "metadata": {},
   "outputs": [
    {
     "data": {
      "text/plain": [
       "array([[ 2.725, -0.275,  1.725, -0.275],\n",
       "       [-1.275,  0.725, -0.275,  0.725],\n",
       "       [-1.275, -1.275, -2.275, -1.275],\n",
       "       [-1.275, -2.275, -2.275, -1.275],\n",
       "       [ 0.725,  2.725,  1.725, -2.275],\n",
       "       [-2.275,  1.725, -1.275,  0.725],\n",
       "       [-0.275,  1.725, -0.275,  1.725],\n",
       "       [-2.275,  2.725, -2.275, -1.275],\n",
       "       [ 0.725,  1.725,  1.725,  1.725],\n",
       "       [-1.275,  2.725,  0.725, -0.275]])"
      ]
     },
     "execution_count": 39,
     "metadata": {},
     "output_type": "execute_result"
    }
   ],
   "source": [
    "b = a - a.mean()\n",
    "b"
   ]
  },
  {
   "cell_type": "code",
   "execution_count": 40,
   "metadata": {},
   "outputs": [
    {
     "data": {
      "text/plain": [
       "array([[2.725, 0.275, 1.725, 0.275],\n",
       "       [1.275, 0.725, 0.275, 0.725],\n",
       "       [1.275, 1.275, 2.275, 1.275],\n",
       "       [1.275, 2.275, 2.275, 1.275],\n",
       "       [0.725, 2.725, 1.725, 2.275],\n",
       "       [2.275, 1.725, 1.275, 0.725],\n",
       "       [0.275, 1.725, 0.275, 1.725],\n",
       "       [2.275, 2.725, 2.275, 1.275],\n",
       "       [0.725, 1.725, 1.725, 1.725],\n",
       "       [1.275, 2.725, 0.725, 0.275]])"
      ]
     },
     "execution_count": 40,
     "metadata": {},
     "output_type": "execute_result"
    }
   ],
   "source": [
    "# absolute value. There is no abs method\n",
    "np.abs(b)"
   ]
  },
  {
   "cell_type": "code",
   "execution_count": 41,
   "metadata": {},
   "outputs": [
    {
     "data": {
      "text/plain": [
       "array([[2.44948974, 1.73205081, 2.23606798, 1.73205081],\n",
       "       [1.41421356, 2.        , 1.73205081, 2.        ],\n",
       "       [1.41421356, 1.41421356, 1.        , 1.41421356],\n",
       "       [1.41421356, 1.        , 1.        , 1.41421356],\n",
       "       [2.        , 2.44948974, 2.23606798, 1.        ],\n",
       "       [1.        , 2.23606798, 1.41421356, 2.        ],\n",
       "       [1.73205081, 2.23606798, 1.73205081, 2.23606798],\n",
       "       [1.        , 2.44948974, 1.        , 1.41421356],\n",
       "       [2.        , 2.23606798, 2.23606798, 2.23606798],\n",
       "       [1.41421356, 2.44948974, 2.        , 1.73205081]])"
      ]
     },
     "execution_count": 41,
     "metadata": {},
     "output_type": "execute_result"
    }
   ],
   "source": [
    "# take the square root of the absolute value and then round\n",
    "np.sqrt(a)"
   ]
  },
  {
   "cell_type": "code",
   "execution_count": 42,
   "metadata": {},
   "outputs": [
    {
     "data": {
      "text/plain": [
       "array([[2.4, 1.7, 2.2, 1.7],\n",
       "       [1.4, 2. , 1.7, 2. ],\n",
       "       [1.4, 1.4, 1. , 1.4],\n",
       "       [1.4, 1. , 1. , 1.4],\n",
       "       [2. , 2.4, 2.2, 1. ],\n",
       "       [1. , 2.2, 1.4, 2. ],\n",
       "       [1.7, 2.2, 1.7, 2.2],\n",
       "       [1. , 2.4, 1. , 1.4],\n",
       "       [2. , 2.2, 2.2, 2.2],\n",
       "       [1.4, 2.4, 2. , 1.7]])"
      ]
     },
     "execution_count": 42,
     "metadata": {},
     "output_type": "execute_result"
    }
   ],
   "source": [
    "# chain the round method after the square root\n",
    "np.sqrt(a).round(1)"
   ]
  },
  {
   "cell_type": "code",
   "execution_count": 43,
   "metadata": {},
   "outputs": [
    {
     "data": {
      "text/plain": [
       "131"
      ]
     },
     "execution_count": 43,
     "metadata": {},
     "output_type": "execute_result"
    }
   ],
   "source": [
    "# some functions do the same things as methods\n",
    "np.sum(a)"
   ]
  },
  {
   "cell_type": "code",
   "execution_count": 44,
   "metadata": {},
   "outputs": [
    {
     "data": {
      "text/plain": [
       "array([[3, 3, 5, 6],\n",
       "       [2, 3, 4, 4],\n",
       "       [1, 2, 2, 2],\n",
       "       [1, 1, 2, 2],\n",
       "       [1, 4, 5, 6],\n",
       "       [1, 2, 4, 5],\n",
       "       [3, 3, 5, 5],\n",
       "       [1, 1, 2, 6],\n",
       "       [4, 5, 5, 5],\n",
       "       [2, 3, 4, 6]])"
      ]
     },
     "execution_count": 44,
     "metadata": {},
     "output_type": "execute_result"
    }
   ],
   "source": [
    "# sort defaults to sorting by row\n",
    "np.sort(a)"
   ]
  },
  {
   "cell_type": "markdown",
   "metadata": {},
   "source": [
    "### Problem 6\n",
    "<span style=\"color:green\">Practice calling many NumPy functions. Find them by using tab completion with **`np.`**.  Use the functions that have an array as their first parameter.</span>"
   ]
  },
  {
   "cell_type": "code",
   "execution_count": 45,
   "metadata": {},
   "outputs": [
    {
     "data": {
      "text/plain": [
       "array([[5, 3, 5, 3],\n",
       "       [3, 4, 3, 4],\n",
       "       [3, 3, 3, 3],\n",
       "       [3, 3, 3, 3],\n",
       "       [4, 5, 5, 3],\n",
       "       [3, 5, 3, 4],\n",
       "       [3, 5, 3, 5],\n",
       "       [3, 5, 3, 3],\n",
       "       [4, 5, 5, 5],\n",
       "       [3, 5, 4, 3]])"
      ]
     },
     "execution_count": 45,
     "metadata": {},
     "output_type": "execute_result"
    }
   ],
   "source": [
    "# your code here\n",
    "np.max(arr)\n",
    "np.sort(arr)\n",
    "np. clip (a,3,5)\n",
    "\n"
   ]
  },
  {
   "cell_type": "markdown",
   "metadata": {},
   "source": [
    "## Comparison operators\n",
    "The 6 comparison operators <, >, <=, >=, ==, != work on all elements of the array. They return an array of booleans of the same shape."
   ]
  },
  {
   "cell_type": "code",
   "execution_count": 36,
   "metadata": {},
   "outputs": [
    {
     "data": {
      "text/plain": [
       "array([[ True, False, False, False],\n",
       "       [False, False, False, False],\n",
       "       [False, False, False, False],\n",
       "       [False, False, False, False],\n",
       "       [False,  True, False, False],\n",
       "       [False, False, False, False],\n",
       "       [False, False, False, False],\n",
       "       [False,  True, False, False],\n",
       "       [False, False, False, False],\n",
       "       [False,  True, False, False]])"
      ]
     },
     "execution_count": 36,
     "metadata": {},
     "output_type": "execute_result"
    }
   ],
   "source": [
    "# find all the 6's\n",
    "a == 6"
   ]
  },
  {
   "cell_type": "code",
   "execution_count": 37,
   "metadata": {},
   "outputs": [
    {
     "data": {
      "text/plain": [
       "4"
      ]
     },
     "execution_count": 37,
     "metadata": {},
     "output_type": "execute_result"
    }
   ],
   "source": [
    "# find out how many 6's are rolled\n",
    "np.sum(a == 6)"
   ]
  },
  {
   "cell_type": "code",
   "execution_count": 38,
   "metadata": {},
   "outputs": [
    {
     "data": {
      "text/plain": [
       "0.45"
      ]
     },
     "execution_count": 38,
     "metadata": {},
     "output_type": "execute_result"
    }
   ],
   "source": [
    "# find percentage of values greater than 3\n",
    "np.mean(a > 3)"
   ]
  },
  {
   "cell_type": "markdown",
   "metadata": {},
   "source": [
    "# Use `&` and `|` for `and` and `or`\n",
    "You cannot use the Python keywords **`and`** and **`or`** for combining logical operations on entire arrays. Instead, you must use **`&`** and **`|`**."
   ]
  },
  {
   "cell_type": "code",
   "execution_count": null,
   "metadata": {},
   "outputs": [],
   "source": [
    "# which rolls are between 2 and 4\n",
    "(a >= 2) & (a <= 4)"
   ]
  },
  {
   "cell_type": "code",
   "execution_count": null,
   "metadata": {},
   "outputs": [],
   "source": [
    "# this should be about 95%\n",
    "between_2_4 = (a >= 2) & (a <= 4)\n",
    "between_2_4.mean()"
   ]
  },
  {
   "cell_type": "markdown",
   "metadata": {},
   "source": [
    "### Problem 7\n",
    "<span style=\"color:green\">Which column has the highest average roll?</span>"
   ]
  },
  {
   "cell_type": "code",
   "execution_count": 46,
   "metadata": {},
   "outputs": [
    {
     "data": {
      "text/plain": [
       "array([False, False, False, False,  True, False])"
      ]
     },
     "execution_count": 46,
     "metadata": {},
     "output_type": "execute_result"
    }
   ],
   "source": [
    "# your code here\n",
    "maxcolumn = np.average(arr, axis=0).max ()\n",
    "np.average(arr, axis=0)\n",
    "maxCol = (np.average (arr, axis=0)==maxcolumn)\n",
    "maxCol"
   ]
  },
  {
   "cell_type": "markdown",
   "metadata": {},
   "source": [
    "### Problem 8\n",
    "<span style=\"color:green\">Find the average roll for all rolls. Then find the average roll for each row. Which rows have an average that is higher than the average for all rolls?"
   ]
  },
  {
   "cell_type": "code",
   "execution_count": 51,
   "metadata": {},
   "outputs": [
    {
     "name": "stdout",
     "output_type": "stream",
     "text": [
      "49.333333333333336\n",
      "[54.5        32.         60.16666667 53.83333333 46.16666667]\n"
     ]
    },
    {
     "data": {
      "text/plain": [
       "array([ True, False,  True,  True, False])"
      ]
     },
     "execution_count": 51,
     "metadata": {},
     "output_type": "execute_result"
    }
   ],
   "source": [
    "# your code here\n",
    "print(np.average(arr))\n",
    "print(np.average(arr, axis=1))\n",
    "\n",
    "avgALL = np.average(arr)\n",
    "avgEACH = np.average(arr, axis=1)\n",
    "whichGTAvg = (avgEACH > avgALL)\n",
    "whichGTAvg\n",
    "\n"
   ]
  },
  {
   "cell_type": "markdown",
   "metadata": {},
   "source": [
    "### Resources\n",
    "+ [NumPy's own tutorial](https://docs.scipy.org/doc/numpy-dev/user/quickstart.html)\n",
    "+ [Datacamp NumPy tutorial](https://docs.scipy.org/doc/numpy-dev/user/quickstart.html)"
   ]
  }
 ],
 "metadata": {
  "kernelspec": {
   "display_name": "Python 3",
   "language": "python",
   "name": "python3"
  },
  "language_info": {
   "codemirror_mode": {
    "name": "ipython",
    "version": 3
   },
   "file_extension": ".py",
   "mimetype": "text/x-python",
   "name": "python",
   "nbconvert_exporter": "python",
   "pygments_lexer": "ipython3",
   "version": "3.6.6"
  }
 },
 "nbformat": 4,
 "nbformat_minor": 2
}
